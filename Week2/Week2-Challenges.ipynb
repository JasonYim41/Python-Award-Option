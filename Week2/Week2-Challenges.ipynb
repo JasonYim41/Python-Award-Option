{
 "cells": [
  {
   "cell_type": "code",
   "execution_count": null,
   "id": "ad42c2e7",
   "metadata": {},
   "outputs": [
    {
     "name": "stdout",
     "output_type": "stream",
     "text": [
      "This is a negative number.\n"
     ]
    }
   ],
   "source": [
    "def simpledecision():\n",
    "    '''Input a number and this decison module will tell you if it's bigger or smaller than 0'''\n",
    "    Usernumber = int(input(\"Enter a number:\"))\n",
    "    if Usernumber > 0:\n",
    "        print(\"This is a postive number.\")\n",
    "    elif Usernumber == 0:\n",
    "        print(\"Zero\")\n",
    "    else:\n",
    "        print(\"This is a negative number.\")\n",
    "simpledecision()\n",
    "\n",
    "\n"
   ]
  },
  {
   "cell_type": "code",
   "execution_count": null,
   "id": "719623f3",
   "metadata": {},
   "outputs": [],
   "source": []
  },
  {
   "cell_type": "code",
   "execution_count": 19,
   "id": "c130b492",
   "metadata": {},
   "outputs": [
    {
     "name": "stdout",
     "output_type": "stream",
     "text": [
      "47 is too high.\n",
      "44 is too high.\n",
      "12 is too low.\n",
      "36 is too high.\n",
      "30 is too low.\n",
      "35 is too high.\n",
      "34 is too high.\n",
      "33 is correct.\n",
      "This round took you 8 tries.\n"
     ]
    }
   ],
   "source": [
    "import random\n",
    "'''Guess the number game from 1 to 100'''\n",
    "def guessthenumber():\n",
    "    low = 1\n",
    "    high = 100\n",
    "    guess = 0 \n",
    "    number = random.randint(low,high)\n",
    "    while True:\n",
    "        Trynumber = int(input(f\"Enter a number between ({low} and {high}):\")) \n",
    "        guess += 1 \n",
    "\n",
    "        if Trynumber < number:\n",
    "            print(f\"{Trynumber} is too low.\")\n",
    "        elif Trynumber > number:\n",
    "            print(f\"{Trynumber} is too high.\")\n",
    "        else :\n",
    "            print(f\"{Trynumber} is correct.\")\n",
    "            print(f\"This round took you {guess} tries.\")\n",
    "            break \n",
    "guessthenumber()\n",
    "        \n",
    "\n",
    "\n",
    "\n",
    "\n",
    "\n"
   ]
  },
  {
   "cell_type": "code",
   "execution_count": null,
   "id": "d438dd50",
   "metadata": {},
   "outputs": [],
   "source": []
  }
 ],
 "metadata": {
  "kernelspec": {
   "display_name": "Python 3",
   "language": "python",
   "name": "python3"
  },
  "language_info": {
   "codemirror_mode": {
    "name": "ipython",
    "version": 3
   },
   "file_extension": ".py",
   "mimetype": "text/x-python",
   "name": "python",
   "nbconvert_exporter": "python",
   "pygments_lexer": "ipython3",
   "version": "3.13.7"
  }
 },
 "nbformat": 4,
 "nbformat_minor": 5
}
