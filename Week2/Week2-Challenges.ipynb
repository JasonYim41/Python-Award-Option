{
 "cells": [
  {
   "cell_type": "code",
   "execution_count": 46,
   "id": "ad42c2e7",
   "metadata": {},
   "outputs": [
    {
     "name": "stdout",
     "output_type": "stream",
     "text": [
      "This is a postive number.\n"
     ]
    }
   ],
   "source": [
    "def simpledecision():\n",
    "    '''Task 1'''\n",
    "    '''Input a number and this decison module will tell you if it's bigger or smaller than 0'''\n",
    "    Usernumber = int(input(\"Enter a number:\"))\n",
    "    if Usernumber > 0:\n",
    "        print(\"This is a postive number.\")\n",
    "    elif Usernumber == 0:\n",
    "        print(\"Zero\")\n",
    "    else:\n",
    "        print(\"This is a negative number.\")\n",
    "simpledecision()\n",
    "\n",
    "\n"
   ]
  },
  {
   "cell_type": "code",
   "execution_count": 45,
   "id": "c130b492",
   "metadata": {},
   "outputs": [
    {
     "name": "stdout",
     "output_type": "stream",
     "text": [
      "50 is too high.\n",
      "45 is too high.\n",
      "30 is too low.\n",
      "35 is too high.\n",
      "31 is too low.\n",
      "33 is correct.\n",
      "This round took you 6 tries.\n"
     ]
    }
   ],
   "source": [
    "import random\n",
    "'''Task 2'''\n",
    "'''Guess the number game from 1 to 100'''\n",
    "def guessthenumber():\n",
    "    low = 1\n",
    "    high = 100\n",
    "    guess = 0 \n",
    "    number = random.randint(low,high)\n",
    "    while True:\n",
    "        Trynumber = int(input(f\"Enter a number between ({low} and {high}):\")) \n",
    "        guess += 1 \n",
    "\n",
    "        if Trynumber < number:\n",
    "            print(f\"{Trynumber} is too low.\")\n",
    "        elif Trynumber > number:\n",
    "            print(f\"{Trynumber} is too high.\")\n",
    "        else :\n",
    "            print(f\"{Trynumber} is correct.\")\n",
    "            print(f\"This round took you {guess} tries.\")\n",
    "            break \n",
    "guessthenumber()"
   ]
  },
  {
   "cell_type": "code",
   "execution_count": null,
   "id": "d438dd50",
   "metadata": {},
   "outputs": [
    {
     "name": "stdout",
     "output_type": "stream",
     "text": [
      "The bot has chosen scissors and you have chosen paper. You have lost.\n"
     ]
    }
   ],
   "source": [
    "import random \n",
    "\n",
    "def RockPaperScissor():\n",
    "    '''Task 3'''\n",
    "    '''Rock, Paper, Scissors Game'''\n",
    "    '''This took 40 mins lol'''\n",
    "    RPS = (\"rock\",\"paper\",\"scissors\")\n",
    "    BotRPS = random.choice(RPS)\n",
    "    UserRPS = str(input(f\"Choose Rock, Paper, Scissors:\"))\n",
    "    UserRPS = UserRPS.lower()\n",
    "    if BotRPS == UserRPS:\n",
    "        print(f\"The bot has chosen {BotRPS} and you have chosen {UserRPS}. It's a tie!\")\n",
    "    elif UserRPS == \"rock\":\n",
    "        if BotRPS == \"paper\":\n",
    "            print(f\"The bot has chosen {BotRPS} and you have chosen {UserRPS}. You have lost.\")\n",
    "        elif BotRPS == \"scissors\":\n",
    "            print(f\"The bot has chosen {BotRPS} and you have chose {UserRPS}. You have won.\")\n",
    "    elif UserRPS == \"paper\":\n",
    "        if BotRPS == \"scissors\":\n",
    "            print(f\"The bot has chosen {BotRPS} and you have chosen {UserRPS}. You have lost.\")\n",
    "        elif BotRPS == \"rock\":\n",
    "            print(f\"The bot has chosen {BotRPS} and you have chosen {UserRPS}. You have won.\")\n",
    "    elif UserRPS == \"scissors\":\n",
    "        if BotRPS == \"rock\":\n",
    "            print(f\"The bot has chosen {BotRPS} and you have chosen {UserRPS}. You have lost.\")\n",
    "        elif BotRPS == \"paper\":\n",
    "            print(f\"The bot has chosen {BotRPS} and you have chosen {UserRPS}. You have won.\")\n",
    "RockPaperScissor()\n",
    "\n",
    "\n",
    "            \n",
    "\n",
    "\n",
    "\n",
    "\n"
   ]
  },
  {
   "cell_type": "code",
   "execution_count": null,
   "id": "ff3f2f10",
   "metadata": {},
   "outputs": [],
   "source": []
  }
 ],
 "metadata": {
  "kernelspec": {
   "display_name": "Python 3",
   "language": "python",
   "name": "python3"
  },
  "language_info": {
   "codemirror_mode": {
    "name": "ipython",
    "version": 3
   },
   "file_extension": ".py",
   "mimetype": "text/x-python",
   "name": "python",
   "nbconvert_exporter": "python",
   "pygments_lexer": "ipython3",
   "version": "3.13.7"
  }
 },
 "nbformat": 4,
 "nbformat_minor": 5
}
