{
 "cells": [
  {
   "cell_type": "markdown",
   "id": "a489935f",
   "metadata": {},
   "source": [
    "# My first Python Notbook\n",
    "### Week 1 programming Challenges"
   ]
  },
  {
   "cell_type": "code",
   "execution_count": null,
   "id": "073f5dbd",
   "metadata": {},
   "outputs": [],
   "source": [
    "def greet(user):\n",
    "    '''Greets the named user'''\n",
    "    print(f'Hello {user} nice to meet you.')\n",
    "\n"
   ]
  },
  {
   "cell_type": "code",
   "execution_count": null,
   "id": "72bc0528",
   "metadata": {},
   "outputs": [],
   "source": [
    "greet(\"Amelia\")"
   ]
  },
  {
   "cell_type": "code",
   "execution_count": null,
   "id": "dc6a6f52",
   "metadata": {},
   "outputs": [],
   "source": [
    "def FTempConverter():\n",
    "    '''Tem converter'''\n",
    "    temp = float(input(\" Enter Celcius temp: \"))\n",
    "    f = (temp*9)/5+32\n",
    "    print(f\"{temp} C is {f} F\")\n",
    "FTempConverter()"
   ]
  },
  {
   "cell_type": "code",
   "execution_count": null,
   "id": "b71d0e49",
   "metadata": {},
   "outputs": [],
   "source": [
    "def CTempConverter():\n",
    "    '''F to C converter'''\n",
    "    Ftemp = float(input(\"Enter F Temp:\"))\n",
    "    C = (Ftemp-32)*5/9\n",
    "    print(f\"(Ftemp)F is {C} C\")\n",
    "CTempConverter()\n"
   ]
  },
  {
   "cell_type": "code",
   "execution_count": 3,
   "id": "b92c8cd0",
   "metadata": {},
   "outputs": [
    {
     "name": "stdout",
     "output_type": "stream",
     "text": [
      "Your first number is 75.0.\n",
      "Your second number is 5.0.\n",
      "Sum: 80.0\n",
      "Difference: 70.0\n",
      "Product: 375.0\n",
      "Quotient: 15.0\n",
      "Modulus: 0.0\n"
     ]
    }
   ],
   "source": [
    "def EnchanceCal():\n",
    "    '''Task 2: Enchanced Calculator'''\n",
    "    FirstNumber = float(input(\"Enter your first number:\"))\n",
    "    SecondNumber = float(input(\"Enter your second number:\"))\n",
    "    SumofNumber = FirstNumber+SecondNumber\n",
    "    DiffofNumber = FirstNumber-SecondNumber\n",
    "    ProductofNumber = FirstNumber*SecondNumber\n",
    "    QuotientofNumber = FirstNumber/SecondNumber\n",
    "    ModulusofNumber = FirstNumber%SecondNumber\n",
    "    print(f\"Your first number is {FirstNumber}.\")\n",
    "    print(f\"Your second number is {SecondNumber}.\")\n",
    "    print(f\"Sum: {SumofNumber}\")\n",
    "    print(f\"Difference: {DiffofNumber}\")\n",
    "    print(f\"Product: {ProductofNumber}\")\n",
    "    print(f\"Quotient: {QuotientofNumber}\")\n",
    "    print(f\"Modulus: {ModulusofNumber}\")\n",
    "EnchanceCal()"
   ]
  },
  {
   "cell_type": "code",
   "execution_count": null,
   "id": "1d9ddc96",
   "metadata": {},
   "outputs": [],
   "source": [
    "def StringManipulation():\n",
    "    '''Task 3: Take user's full name as input and print as intials, total number of character and name in reverse'''\n",
    "    NameOfUser = str(input(\"Enter your name:\"))\n",
    "    #assume that NameofUser is Jason Yim \n",
    "    \n"
   ]
  }
 ],
 "metadata": {
  "kernelspec": {
   "display_name": "Python 3",
   "language": "python",
   "name": "python3"
  },
  "language_info": {
   "codemirror_mode": {
    "name": "ipython",
    "version": 3
   },
   "file_extension": ".py",
   "mimetype": "text/x-python",
   "name": "python",
   "nbconvert_exporter": "python",
   "pygments_lexer": "ipython3",
   "version": "3.13.7"
  }
 },
 "nbformat": 4,
 "nbformat_minor": 5
}
