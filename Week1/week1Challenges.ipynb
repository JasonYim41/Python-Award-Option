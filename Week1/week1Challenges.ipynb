{
 "cells": [
  {
   "cell_type": "markdown",
   "id": "a489935f",
   "metadata": {},
   "source": [
    "# My first Python Notbook\n",
    "### Week 1 programming Challenges"
   ]
  },
  {
   "cell_type": "code",
   "execution_count": null,
   "id": "073f5dbd",
   "metadata": {},
   "outputs": [],
   "source": [
    "def greet(user):\n",
    "    '''Greets the named user'''\n",
    "    print(f'Hello {user} nice to meet you.')\n",
    "\n"
   ]
  },
  {
   "cell_type": "code",
   "execution_count": null,
   "id": "72bc0528",
   "metadata": {},
   "outputs": [],
   "source": [
    "greet(\"Amelia\")"
   ]
  },
  {
   "cell_type": "code",
   "execution_count": null,
   "id": "dc6a6f52",
   "metadata": {},
   "outputs": [],
   "source": [
    "def FTempConverter():\n",
    "    '''Tem converter'''\n",
    "    temp = float(input(\" Enter Celcius temp: \"))\n",
    "    f = (temp*9)/5+32\n",
    "    print(f\"{temp} C is {f} F\")\n",
    "FTempConverter()"
   ]
  },
  {
   "cell_type": "code",
   "execution_count": null,
   "id": "b71d0e49",
   "metadata": {},
   "outputs": [],
   "source": [
    "def CTempConverter():\n",
    "    '''F to C converter'''\n",
    "    Ftemp = float(input(\"Enter F Temp:\"))\n",
    "    C = (Ftemp-32)*5/9\n",
    "    print(f\"(Ftemp)F is {C} C\")\n",
    "CTempConverter()\n"
   ]
  },
  {
   "cell_type": "code",
   "execution_count": 3,
   "id": "b92c8cd0",
   "metadata": {},
   "outputs": [
    {
     "name": "stdout",
     "output_type": "stream",
     "text": [
      "Your first number is 75.0.\n",
      "Your second number is 5.0.\n",
      "Sum: 80.0\n",
      "Difference: 70.0\n",
      "Product: 375.0\n",
      "Quotient: 15.0\n",
      "Modulus: 0.0\n"
     ]
    }
   ],
   "source": [
    "def EnchanceCal():\n",
    "    '''Task 2: Enchanced Calculator'''\n",
    "    FirstNumber = float(input(\"Enter your first number:\"))\n",
    "    SecondNumber = float(input(\"Enter your second number:\"))\n",
    "    SumofNumber = FirstNumber+SecondNumber\n",
    "    DiffofNumber = FirstNumber-SecondNumber\n",
    "    ProductofNumber = FirstNumber*SecondNumber\n",
    "    QuotientofNumber = FirstNumber/SecondNumber\n",
    "    ModulusofNumber = FirstNumber%SecondNumber\n",
    "    print(f\"Your first number is {FirstNumber}.\")\n",
    "    print(f\"Your second number is {SecondNumber}.\")\n",
    "    print(f\"Sum: {SumofNumber}\")\n",
    "    print(f\"Difference: {DiffofNumber}\")\n",
    "    print(f\"Product: {ProductofNumber}\")\n",
    "    print(f\"Quotient: {QuotientofNumber}\")\n",
    "    print(f\"Modulus: {ModulusofNumber}\")\n",
    "EnchanceCal()"
   ]
  },
  {
   "cell_type": "code",
   "execution_count": null,
   "id": "1d9ddc96",
   "metadata": {},
   "outputs": [],
   "source": [
    "def StringManipulation():\n",
    "    '''Task 3: Take user's full name as input and print as intials, total number of character and name in reverse'''\n",
    "    NameOfUser = str(input(\"Enter your name:\"))\n",
    "    #assume that NameofUser is Jason Yim \n",
    "    \n"
   ]
  },
  {
   "cell_type": "code",
   "execution_count": null,
   "id": "1240dc87",
   "metadata": {},
   "outputs": [
    {
     "name": "stdout",
     "output_type": "stream",
     "text": [
      "your principle is 45.0.\n",
      "Your rate is 12.0.\n",
      "Your time period in 5 years.\n",
      "Your total is 79.30537574400003.\n"
     ]
    }
   ],
   "source": [
    "def InterestRateCal():\n",
    "    \"Interest Rate Cal\"\n",
    "    #variables \n",
    "    principle = 0\n",
    "    rate = 0\n",
    "    time = 0\n",
    "    #while loops \n",
    "\n",
    "    while True: \n",
    "        principle = float(input(\"Please Input the Principle amount in Dollars: \"))\n",
    "        if principle <= 0 : \n",
    "            principle = print(\"ERROR! Principle cannot be be equal or lesser than zero.\")\n",
    "        else:\n",
    "            break\n",
    "    \n",
    "    while True:\n",
    "        \n",
    "        rate = float(input(\"Please input the interest rate: \"))\n",
    "        if rate <= 0 :\n",
    "            principle = print(\"ERROR! Interest rate can not be equal or lesser than zero.\")\n",
    "        else:\n",
    "            break\n",
    "\n",
    "    while True: \n",
    "        \n",
    "        time = int(input(\"Please input the time in years: \"))\n",
    "        if time <= 0 :\n",
    "            principle = print(\"ERROR! Time period can not be equal or lesser than zero.\")\n",
    "        else:\n",
    "            break\n",
    "    \n",
    "\n",
    "    print(f\"your principle is {principle}.\")\n",
    "    print(f\"Your rate is {rate}.\")\n",
    "    print(f\"Your time period in {time} years.\")\n",
    "\n",
    "    total = principle * pow((1 + rate/100), time)\n",
    "    print(f\"Your total is {total}.\")\n",
    "InterestRateCal()\n",
    "    \n",
    "\n",
    "\n",
    "    \n"
   ]
  }
 ],
 "metadata": {
  "kernelspec": {
   "display_name": "Python 3",
   "language": "python",
   "name": "python3"
  },
  "language_info": {
   "codemirror_mode": {
    "name": "ipython",
    "version": 3
   },
   "file_extension": ".py",
   "mimetype": "text/x-python",
   "name": "python",
   "nbconvert_exporter": "python",
   "pygments_lexer": "ipython3",
   "version": "3.13.7"
  }
 },
 "nbformat": 4,
 "nbformat_minor": 5
}
