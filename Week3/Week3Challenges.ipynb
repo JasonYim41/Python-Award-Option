{
 "cells": [
  {
   "cell_type": "markdown",
   "id": "c7038bd9",
   "metadata": {},
   "source": [
    "Function testing "
   ]
  },
  {
   "cell_type": "code",
   "execution_count": 4,
   "id": "222691ce",
   "metadata": {},
   "outputs": [
    {
     "name": "stdout",
     "output_type": "stream",
     "text": [
      "Happy Birthday to Jason\n",
      "You are 10 years old\n",
      "Happy Birthday to you\n",
      "Happy Birthday to Terry\n",
      "You are 20 years old\n",
      "Happy Birthday to you\n"
     ]
    }
   ],
   "source": [
    "def Birthdaysong(name,age):\n",
    "    print(f\"Happy Birthday to {name}\")\n",
    "    print(f\"You are {age} years old\")\n",
    "    print(f\"Happy Birthday to you\")\n",
    "Birthdaysong(\"Jason\", 10)\n",
    "Birthdaysong(\"Terry\", 20)"
   ]
  },
  {
   "cell_type": "code",
   "execution_count": null,
   "id": "ca9fdb34",
   "metadata": {},
   "outputs": [
    {
     "name": "stdout",
     "output_type": "stream",
     "text": [
      "Hello User1.\n",
      "You are due $3400.00.\n",
      "The due date is 12-9-2020\n"
     ]
    }
   ],
   "source": [
    "def display_invoice(username, amount, due_date):\n",
    "    print(f\"Hello {username}.\")\n",
    "    print(f\"You are due ${amount:.2f}.\")\n",
    "    print(f\"The due date is {due_date}\")\n",
    "display_invoice(\"User1\", 3400, \"12-9-2020\".)"
   ]
  },
  {
   "cell_type": "code",
   "execution_count": 12,
   "id": "5ea849fd",
   "metadata": {},
   "outputs": [
    {
     "name": "stdout",
     "output_type": "stream",
     "text": [
      "13\n",
      "11\n",
      "24\n",
      "6.0\n"
     ]
    }
   ],
   "source": [
    "def add (x,y):\n",
    "    z = x + y \n",
    "    return z \n",
    "\n",
    "def subtract(x,y):\n",
    "    z = x - y\n",
    "    return z\n",
    "\n",
    "def multiply(x,y):\n",
    "    z = x * y\n",
    "    return z\n",
    "\n",
    "def divide(x,y):\n",
    "    z = x / y \n",
    "    return z\n",
    "\n",
    "print(add(12,1))\n",
    "print(subtract(12,1))\n",
    "print(multiply(12,2))\n",
    "print(divide(12,2))\n"
   ]
  },
  {
   "cell_type": "markdown",
   "id": "0d1c8a76",
   "metadata": {},
   "source": [
    "Default Function"
   ]
  },
  {
   "cell_type": "code",
   "execution_count": 15,
   "id": "4290fd46",
   "metadata": {},
   "outputs": [
    {
     "data": {
      "text/plain": [
       "'Stort None'"
      ]
     },
     "execution_count": 15,
     "metadata": {},
     "output_type": "execute_result"
    }
   ],
   "source": [
    "def createname(first,last):\n",
    "    first = first.capitalize()\n",
    "    last = last.capitalize()\n",
    "    return first + \" \" + last \n",
    "createname(\"stort\",\"none\")"
   ]
  }
 ],
 "metadata": {
  "kernelspec": {
   "display_name": "Python 3",
   "language": "python",
   "name": "python3"
  },
  "language_info": {
   "codemirror_mode": {
    "name": "ipython",
    "version": 3
   },
   "file_extension": ".py",
   "mimetype": "text/x-python",
   "name": "python",
   "nbconvert_exporter": "python",
   "pygments_lexer": "ipython3",
   "version": "3.13.7"
  }
 },
 "nbformat": 4,
 "nbformat_minor": 5
}
